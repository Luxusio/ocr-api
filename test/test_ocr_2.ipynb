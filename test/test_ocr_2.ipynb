{
 "cells": [
  {
   "cell_type": "code",
   "id": "initial_id",
   "metadata": {
    "collapsed": true
   },
   "source": [
    "from PIL import Image\n",
    "import numpy as np\n",
    "\n",
    "from main import ocr_img, initialize, BoundingBox\n",
    "from manga_translator.utils import load_image, Quadrilateral"
   ],
   "outputs": [],
   "execution_count": null
  },
  {
   "metadata": {},
   "cell_type": "code",
   "source": "await initialize()",
   "id": "8769d38101da6247",
   "outputs": [],
   "execution_count": null
  },
  {
   "metadata": {},
   "cell_type": "code",
   "source": [
    "img_path = 'test-image.png'\n",
    "positions = [\n",
    "    [((0.2595, 0.1985), (0.8167, 0.2347)), 'title'],\n",
    "    [((0.0418, 0.3006), (0.5727, 0.4024)), 'accuracy'],\n",
    "]"
   ],
   "id": "4a4b26808b32295a",
   "outputs": [],
   "execution_count": null
  },
  {
   "metadata": {},
   "cell_type": "code",
   "source": [
    "img_rgb, img_alpha = load_image(Image.open(img_path))\n",
    "\n",
    "boxes: [BoundingBox] = []\n",
    "for position in positions:\n",
    "    box = position[0]\n",
    "    boxes.append(BoundingBox(\n",
    "        name=position[1],\n",
    "        top_left=(int(box[0][0] * img_rgb.shape[1]), int(box[0][1] * img_rgb.shape[0])),\n",
    "        top_right=(int(box[1][0] * img_rgb.shape[1]), int(box[0][1] * img_rgb.shape[0])),\n",
    "        bottom_right=(int(box[1][0] * img_rgb.shape[1]), int(box[1][1] * img_rgb.shape[0])),\n",
    "        bottom_left=(int(box[0][0] * img_rgb.shape[1]), int(box[1][1] * img_rgb.shape[0]))\n",
    "    ))\n",
    "\n",
    "result = await ocr_img(img_rgb, boxes)"
   ],
   "id": "c053490e2abe0ad8",
   "outputs": [],
   "execution_count": null
  },
  {
   "metadata": {},
   "cell_type": "code",
   "source": "result",
   "id": "37b172f9ff0e52d9",
   "outputs": [],
   "execution_count": null
  },
  {
   "metadata": {},
   "cell_type": "code",
   "source": "",
   "id": "a6dddbcc45096aa8",
   "outputs": [],
   "execution_count": null
  }
 ],
 "metadata": {
  "kernelspec": {
   "display_name": "Python 3",
   "language": "python",
   "name": "python3"
  },
  "language_info": {
   "codemirror_mode": {
    "name": "ipython",
    "version": 2
   },
   "file_extension": ".py",
   "mimetype": "text/x-python",
   "name": "python",
   "nbconvert_exporter": "python",
   "pygments_lexer": "ipython2",
   "version": "2.7.6"
  }
 },
 "nbformat": 4,
 "nbformat_minor": 5
}
