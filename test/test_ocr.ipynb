{
 "cells": [
  {
   "cell_type": "code",
   "id": "initial_id",
   "metadata": {
    "collapsed": true
   },
   "source": [
    "from PIL import Image\n",
    "\n",
    "import numpy as np\n",
    "import asyncio\n",
    "try:\n",
    "    import manga_translator\n",
    "except ImportError:\n",
    "    '''Ignored'''\n",
    "from manga_translator.utils.generic import load_image, Quadrilateral\n",
    "from manga_translator.config import OcrConfig, Ocr, Config\n",
    "from manga_translator.ocr import dispatch as dispatch_ocr, prepare as prepare_ocr\n",
    "from manga_translator.detection import dispatch as dispatch_detection, prepare as prepare_detection"
   ],
   "outputs": [],
   "execution_count": null
  },
  {
   "metadata": {},
   "cell_type": "code",
   "source": [
    "config = Config()\n",
    "config.translator.target_lang = 'JPN'\n",
    "\n",
    "verbose = False\n",
    "device = 'cpu'\n",
    "\n",
    "await prepare_detection(config.detector.detector)\n",
    "await prepare_ocr(config.ocr.ocr, device)"
   ],
   "id": "8769d38101da6247",
   "outputs": [],
   "execution_count": null
  },
  {
   "metadata": {},
   "cell_type": "code",
   "source": "",
   "id": "4a4b26808b32295a",
   "outputs": [],
   "execution_count": null
  },
  {
   "metadata": {},
   "cell_type": "code",
   "source": [
    "img_rgb, img_alpha = load_image(Image.open('test_ocr_2.png'))\n",
    "\n",
    "textlines, mask_raw, mask = await dispatch_detection(\n",
    "    config.detector.detector, img_rgb, config.detector.detection_size, config.detector.text_threshold,\n",
    "    config.detector.box_threshold,\n",
    "    config.detector.unclip_ratio, config.detector.det_invert, config.detector.det_gamma_correct, config.detector.det_rotate, config.detector.det_auto_rotate, device, verbose\n",
    ")\n",
    "\n",
    "if not textlines:\n",
    "    raise Exception('No text found!!!!!!!!!!')\n",
    "\n",
    "textlines = await dispatch_ocr(config.ocr.ocr, img_rgb, textlines, config.ocr, device, verbose)\n",
    "for textline in textlines:\n",
    "    print(f'({textline.prob}%) : {textline.text}')"
   ],
   "id": "c053490e2abe0ad8",
   "outputs": [],
   "execution_count": null
  },
  {
   "metadata": {},
   "cell_type": "code",
   "source": [
    "print(f'pts: {textlines[0].pts}')\n",
    "print(f'text: {textlines[0].text}')\n",
    "print(f'prob: {textlines[0].prob}')\n",
    "print(f'fg_r: {textlines[0].fg_r}')\n",
    "print(f'fg_g: {textlines[0].fg_g}')\n",
    "print(f'fg_b: {textlines[0].fg_b}')\n",
    "print(f'bg_r: {textlines[0].bg_r}')\n",
    "print(f'bg_g: {textlines[0].bg_g}')\n",
    "print(f'bg_b: {textlines[0].bg_b}')\n",
    "\n",
    "h, w, _ = img_rgb.shape\n",
    "textlines[0].pts = np.array([[0, 0], [w, 0], [w, h], [0, h]], dtype=np.int32)\n",
    "\n",
    "\n",
    "# np.array([[0, 0], [w, 0], [w, h], [0, h]], dtype=np.int32)"
   ],
   "id": "37b172f9ff0e52d9",
   "outputs": [],
   "execution_count": null
  },
  {
   "metadata": {},
   "cell_type": "code",
   "source": "",
   "id": "a6dddbcc45096aa8",
   "outputs": [],
   "execution_count": null
  },
  {
   "metadata": {},
   "cell_type": "code",
   "source": [
    "img_rgb, img_alpha = load_image(Image.open('test_ocr_3.png'))\n",
    "\n",
    "h, w, _ = img_rgb.shape\n",
    "textlines = [Quadrilateral(np.array([[0, 0], [w, 0], [w, h], [0, h]], dtype=np.int32), '', 0)]\n",
    "textlines = await dispatch_ocr(config.ocr.ocr, img_rgb, textlines, config.ocr, device, verbose)\n",
    "\n",
    "highest_textline = max(textlines, key=lambda x: x.prob)\n",
    "\n",
    "if highest_textline is not None:\n",
    "    print(f'({highest_textline.prob}%) : {highest_textline.text}')"
   ],
   "id": "ca999efc50e98edc",
   "outputs": [],
   "execution_count": null
  },
  {
   "metadata": {},
   "cell_type": "code",
   "source": "",
   "id": "6f2c76adf3c0c067",
   "outputs": [],
   "execution_count": null
  },
  {
   "metadata": {},
   "cell_type": "code",
   "source": "",
   "id": "f5f55fa03094539d",
   "outputs": [],
   "execution_count": null
  },
  {
   "metadata": {},
   "cell_type": "code",
   "source": "",
   "id": "4ad069052bc010ec",
   "outputs": [],
   "execution_count": null
  },
  {
   "metadata": {},
   "cell_type": "code",
   "source": "",
   "id": "e5cdf3af7c53f848",
   "outputs": [],
   "execution_count": null
  }
 ],
 "metadata": {
  "kernelspec": {
   "display_name": "Python 3",
   "language": "python",
   "name": "python3"
  },
  "language_info": {
   "codemirror_mode": {
    "name": "ipython",
    "version": 2
   },
   "file_extension": ".py",
   "mimetype": "text/x-python",
   "name": "python",
   "nbconvert_exporter": "python",
   "pygments_lexer": "ipython2",
   "version": "2.7.6"
  }
 },
 "nbformat": 4,
 "nbformat_minor": 5
}
